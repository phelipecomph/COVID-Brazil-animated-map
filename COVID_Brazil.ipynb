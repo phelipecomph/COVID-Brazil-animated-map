{
  "cells": [
    {
      "cell_type": "code",
      "execution_count": 1,
      "metadata": {
        "colab": {
          "base_uri": "https://localhost:8080/"
        },
        "id": "e0l5ngFufeL4",
        "outputId": "d60bf4ea-65a3-46bd-ae44-8c85837306cb"
      },
      "outputs": [
        {
          "name": "stdout",
          "output_type": "stream",
          "text": [
            "Requirement already satisfied: pip in c:\\users\\pheli\\appdata\\local\\programs\\python\\python310\\lib\\site-packages (22.2.1)\n",
            "Requirement already satisfied: geopandas in c:\\users\\pheli\\appdata\\local\\programs\\python\\python310\\lib\\site-packages (0.11.1)\n",
            "Requirement already satisfied: pyproj>=2.6.1.post1 in c:\\users\\pheli\\appdata\\local\\programs\\python\\python310\\lib\\site-packages (from geopandas) (3.3.1)\n",
            "Requirement already satisfied: shapely<2,>=1.7 in c:\\users\\pheli\\appdata\\local\\programs\\python\\python310\\lib\\site-packages (from geopandas) (1.8.2)\n",
            "Requirement already satisfied: fiona>=1.8 in c:\\users\\pheli\\appdata\\local\\programs\\python\\python310\\lib\\site-packages (from geopandas) (1.8.21)\n",
            "Requirement already satisfied: packaging in c:\\users\\pheli\\appdata\\local\\programs\\python\\python310\\lib\\site-packages (from geopandas) (21.3)\n",
            "Requirement already satisfied: pandas>=1.0.0 in c:\\users\\pheli\\appdata\\local\\programs\\python\\python310\\lib\\site-packages (from geopandas) (1.4.3)\n",
            "Requirement already satisfied: attrs>=17 in c:\\users\\pheli\\appdata\\local\\programs\\python\\python310\\lib\\site-packages (from fiona>=1.8->geopandas) (22.1.0)\n",
            "Requirement already satisfied: gdal~=3.4.3 in c:\\users\\pheli\\appdata\\local\\programs\\python\\python310\\lib\\site-packages (from fiona>=1.8->geopandas) (3.4.3)\n",
            "Requirement already satisfied: six>=1.7 in c:\\users\\pheli\\appdata\\local\\programs\\python\\python310\\lib\\site-packages (from fiona>=1.8->geopandas) (1.16.0)\n",
            "Requirement already satisfied: cligj>=0.5 in c:\\users\\pheli\\appdata\\local\\programs\\python\\python310\\lib\\site-packages (from fiona>=1.8->geopandas) (0.7.2)\n",
            "Requirement already satisfied: click-plugins>=1.0 in c:\\users\\pheli\\appdata\\local\\programs\\python\\python310\\lib\\site-packages (from fiona>=1.8->geopandas) (1.1.1)\n",
            "Requirement already satisfied: munch in c:\\users\\pheli\\appdata\\local\\programs\\python\\python310\\lib\\site-packages (from fiona>=1.8->geopandas) (2.5.0)\n",
            "Requirement already satisfied: setuptools in c:\\users\\pheli\\appdata\\local\\programs\\python\\python310\\lib\\site-packages (from fiona>=1.8->geopandas) (58.1.0)\n",
            "Requirement already satisfied: certifi in c:\\users\\pheli\\appdata\\local\\programs\\python\\python310\\lib\\site-packages (from fiona>=1.8->geopandas) (2022.6.15)\n",
            "Requirement already satisfied: click>=4.0 in c:\\users\\pheli\\appdata\\local\\programs\\python\\python310\\lib\\site-packages (from fiona>=1.8->geopandas) (8.1.3)\n",
            "Requirement already satisfied: python-dateutil>=2.8.1 in c:\\users\\pheli\\appdata\\local\\programs\\python\\python310\\lib\\site-packages (from pandas>=1.0.0->geopandas) (2.8.2)\n",
            "Requirement already satisfied: pytz>=2020.1 in c:\\users\\pheli\\appdata\\local\\programs\\python\\python310\\lib\\site-packages (from pandas>=1.0.0->geopandas) (2021.3)\n",
            "Requirement already satisfied: numpy>=1.21.0 in c:\\users\\pheli\\appdata\\local\\programs\\python\\python310\\lib\\site-packages (from pandas>=1.0.0->geopandas) (1.22.4+vanilla)\n",
            "Requirement already satisfied: pyparsing!=3.0.5,>=2.0.2 in c:\\users\\pheli\\appdata\\local\\programs\\python\\python310\\lib\\site-packages (from packaging->geopandas) (3.0.9)\n",
            "Requirement already satisfied: colorama in c:\\users\\pheli\\appdata\\local\\programs\\python\\python310\\lib\\site-packages (from click>=4.0->fiona>=1.8->geopandas) (0.4.4)\n",
            "Requirement already satisfied: selenium in c:\\users\\pheli\\appdata\\local\\programs\\python\\python310\\lib\\site-packages (4.3.0)\n",
            "Requirement already satisfied: trio-websocket~=0.9 in c:\\users\\pheli\\appdata\\local\\programs\\python\\python310\\lib\\site-packages (from selenium) (0.9.2)\n",
            "Requirement already satisfied: urllib3[secure,socks]~=1.26 in c:\\users\\pheli\\appdata\\local\\programs\\python\\python310\\lib\\site-packages (from selenium) (1.26.11)\n",
            "Requirement already satisfied: trio~=0.17 in c:\\users\\pheli\\appdata\\local\\programs\\python\\python310\\lib\\site-packages (from selenium) (0.21.0)\n",
            "Requirement already satisfied: outcome in c:\\users\\pheli\\appdata\\local\\programs\\python\\python310\\lib\\site-packages (from trio~=0.17->selenium) (1.2.0)\n",
            "Requirement already satisfied: cffi>=1.14 in c:\\users\\pheli\\appdata\\local\\programs\\python\\python310\\lib\\site-packages (from trio~=0.17->selenium) (1.15.1)\n",
            "Requirement already satisfied: idna in c:\\users\\pheli\\appdata\\local\\programs\\python\\python310\\lib\\site-packages (from trio~=0.17->selenium) (3.3)\n",
            "Requirement already satisfied: async-generator>=1.9 in c:\\users\\pheli\\appdata\\local\\programs\\python\\python310\\lib\\site-packages (from trio~=0.17->selenium) (1.10)\n",
            "Requirement already satisfied: sortedcontainers in c:\\users\\pheli\\appdata\\local\\programs\\python\\python310\\lib\\site-packages (from trio~=0.17->selenium) (2.4.0)\n",
            "Requirement already satisfied: sniffio in c:\\users\\pheli\\appdata\\local\\programs\\python\\python310\\lib\\site-packages (from trio~=0.17->selenium) (1.2.0)\n",
            "Requirement already satisfied: attrs>=19.2.0 in c:\\users\\pheli\\appdata\\local\\programs\\python\\python310\\lib\\site-packages (from trio~=0.17->selenium) (22.1.0)\n",
            "Requirement already satisfied: wsproto>=0.14 in c:\\users\\pheli\\appdata\\local\\programs\\python\\python310\\lib\\site-packages (from trio-websocket~=0.9->selenium) (1.1.0)\n",
            "Requirement already satisfied: PySocks!=1.5.7,<2.0,>=1.5.6 in c:\\users\\pheli\\appdata\\local\\programs\\python\\python310\\lib\\site-packages (from urllib3[secure,socks]~=1.26->selenium) (1.7.1)\n",
            "Requirement already satisfied: pyOpenSSL>=0.14 in c:\\users\\pheli\\appdata\\local\\programs\\python\\python310\\lib\\site-packages (from urllib3[secure,socks]~=1.26->selenium) (22.0.0)\n",
            "Requirement already satisfied: certifi in c:\\users\\pheli\\appdata\\local\\programs\\python\\python310\\lib\\site-packages (from urllib3[secure,socks]~=1.26->selenium) (2022.6.15)\n",
            "Requirement already satisfied: cryptography>=1.3.4 in c:\\users\\pheli\\appdata\\local\\programs\\python\\python310\\lib\\site-packages (from urllib3[secure,socks]~=1.26->selenium) (37.0.4)\n",
            "Requirement already satisfied: pycparser in c:\\users\\pheli\\appdata\\local\\programs\\python\\python310\\lib\\site-packages (from cffi>=1.14->trio~=0.17->selenium) (2.21)\n",
            "Requirement already satisfied: h11<1,>=0.9.0 in c:\\users\\pheli\\appdata\\local\\programs\\python\\python310\\lib\\site-packages (from wsproto>=0.14->trio-websocket~=0.9->selenium) (0.13.0)\n",
            "Requirement already satisfied: webdriver_manager in c:\\users\\pheli\\appdata\\local\\programs\\python\\python310\\lib\\site-packages (3.8.3)\n",
            "Requirement already satisfied: python-dotenv in c:\\users\\pheli\\appdata\\local\\programs\\python\\python310\\lib\\site-packages (from webdriver_manager) (0.20.0)\n",
            "Requirement already satisfied: requests in c:\\users\\pheli\\appdata\\local\\programs\\python\\python310\\lib\\site-packages (from webdriver_manager) (2.28.1)\n",
            "Requirement already satisfied: tqdm in c:\\users\\pheli\\appdata\\local\\programs\\python\\python310\\lib\\site-packages (from webdriver_manager) (4.64.0)\n",
            "Requirement already satisfied: certifi>=2017.4.17 in c:\\users\\pheli\\appdata\\local\\programs\\python\\python310\\lib\\site-packages (from requests->webdriver_manager) (2022.6.15)\n",
            "Requirement already satisfied: urllib3<1.27,>=1.21.1 in c:\\users\\pheli\\appdata\\local\\programs\\python\\python310\\lib\\site-packages (from requests->webdriver_manager) (1.26.11)\n",
            "Requirement already satisfied: charset-normalizer<3,>=2 in c:\\users\\pheli\\appdata\\local\\programs\\python\\python310\\lib\\site-packages (from requests->webdriver_manager) (2.1.0)\n",
            "Requirement already satisfied: idna<4,>=2.5 in c:\\users\\pheli\\appdata\\local\\programs\\python\\python310\\lib\\site-packages (from requests->webdriver_manager) (3.3)\n",
            "Requirement already satisfied: colorama in c:\\users\\pheli\\appdata\\local\\programs\\python\\python310\\lib\\site-packages (from tqdm->webdriver_manager) (0.4.4)\n",
            "Requirement already satisfied: plotly in c:\\users\\pheli\\appdata\\local\\programs\\python\\python310\\lib\\site-packages (5.9.0)\n",
            "Requirement already satisfied: tenacity>=6.2.0 in c:\\users\\pheli\\appdata\\local\\programs\\python\\python310\\lib\\site-packages (from plotly) (8.0.1)\n"
          ]
        }
      ],
      "source": [
        "!pip install --upgrade pip\n",
        "!pip install geopandas\n",
        "!pip install selenium\n",
        "!pip install webdriver_manager\n",
        "!pip install plotly\n",
        "!pip install gif"
      ]
    },
    {
      "cell_type": "markdown",
      "metadata": {},
      "source": [
        "Antes de desenvolver o grafico vou rodar um script Selenium para baixar a versão atual dos dados do site do ministerio da saude"
      ]
    },
    {
      "cell_type": "code",
      "execution_count": 2,
      "metadata": {},
      "outputs": [
        {
          "name": "stderr",
          "output_type": "stream",
          "text": [
            "C:\\Users\\pheli\\AppData\\Local\\Temp/ipykernel_31904/674006772.py:8: DeprecationWarning: executable_path has been deprecated, please pass in a Service object\n",
            "  driver = webdriver.Chrome(ChromeDriverManager().install(),options=options)\n"
          ]
        }
      ],
      "source": [
        "from selenium import webdriver\n",
        "from selenium.webdriver.common.by import By\n",
        "from webdriver_manager.chrome import ChromeDriverManager\n",
        "options = webdriver.ChromeOptions()\n",
        "options.add_argument('--headless')\n",
        "options.add_argument('--no-sandbox')\n",
        "options.add_argument('--disable-dev-shm-usage')\n",
        "driver = webdriver.Chrome(ChromeDriverManager().install(),options=options)"
      ]
    },
    {
      "cell_type": "code",
      "execution_count": 3,
      "metadata": {},
      "outputs": [],
      "source": [
        "driver.get('https://covid.saude.gov.br/')\n",
        "driver.find_element(By.XPATH,'/html/body/app-root/ion-app/ion-router-outlet/app-home/ion-content/div[1]/div[2]/ion-button').click()"
      ]
    },
    {
      "cell_type": "markdown",
      "metadata": {},
      "source": [
        "Agora vamos preparar os dados para o grafico"
      ]
    },
    {
      "cell_type": "code",
      "execution_count": 52,
      "metadata": {
        "id": "ZW_NfYrffcK_"
      },
      "outputs": [],
      "source": [
        "import pandas as pd\n",
        "import os\n",
        "import plotly.express as px\n",
        "import plotly.graph_objects as go\n",
        "import gif\n",
        "from urllib.request import urlopen\n",
        "import json\n",
        "PATH = 'csv/'"
      ]
    },
    {
      "cell_type": "code",
      "execution_count": 31,
      "metadata": {
        "id": "EfaMQmkCfdMz"
      },
      "outputs": [
        {
          "name": "stdout",
          "output_type": "stream",
          "text": [
            "(4805113, 17)\n",
            "(4762350, 17)\n"
          ]
        },
        {
          "data": {
            "text/html": [
              "<div>\n",
              "<style scoped>\n",
              "    .dataframe tbody tr th:only-of-type {\n",
              "        vertical-align: middle;\n",
              "    }\n",
              "\n",
              "    .dataframe tbody tr th {\n",
              "        vertical-align: top;\n",
              "    }\n",
              "\n",
              "    .dataframe thead th {\n",
              "        text-align: right;\n",
              "    }\n",
              "</style>\n",
              "<table border=\"1\" class=\"dataframe\">\n",
              "  <thead>\n",
              "    <tr style=\"text-align: right;\">\n",
              "      <th></th>\n",
              "      <th>regiao</th>\n",
              "      <th>estado</th>\n",
              "      <th>municipio</th>\n",
              "      <th>coduf</th>\n",
              "      <th>codmun</th>\n",
              "      <th>codRegiaoSaude</th>\n",
              "      <th>nomeRegiaoSaude</th>\n",
              "      <th>data</th>\n",
              "      <th>semanaEpi</th>\n",
              "      <th>populacaoTCU2019</th>\n",
              "      <th>casosAcumulado</th>\n",
              "      <th>casosNovos</th>\n",
              "      <th>obitosAcumulado</th>\n",
              "      <th>obitosNovos</th>\n",
              "      <th>Recuperadosnovos</th>\n",
              "      <th>emAcompanhamentoNovos</th>\n",
              "      <th>interior/metropolitana</th>\n",
              "    </tr>\n",
              "  </thead>\n",
              "  <tbody>\n",
              "    <tr>\n",
              "      <th>5251</th>\n",
              "      <td>Norte</td>\n",
              "      <td>RO</td>\n",
              "      <td>Alta Floresta D'Oeste</td>\n",
              "      <td>11</td>\n",
              "      <td>110001.0</td>\n",
              "      <td>11005.0</td>\n",
              "      <td>ZONA DA MATA</td>\n",
              "      <td>2022-01-03</td>\n",
              "      <td>1</td>\n",
              "      <td>22945.0</td>\n",
              "      <td>4685.0</td>\n",
              "      <td>5</td>\n",
              "      <td>73</td>\n",
              "      <td>1</td>\n",
              "      <td>NaN</td>\n",
              "      <td>NaN</td>\n",
              "      <td>0.0</td>\n",
              "    </tr>\n",
              "    <tr>\n",
              "      <th>246344</th>\n",
              "      <td>Nordeste</td>\n",
              "      <td>PB</td>\n",
              "      <td>Guarabira</td>\n",
              "      <td>25</td>\n",
              "      <td>250630.0</td>\n",
              "      <td>25002.0</td>\n",
              "      <td>2Âª REGIAO</td>\n",
              "      <td>2022-01-04</td>\n",
              "      <td>1</td>\n",
              "      <td>58833.0</td>\n",
              "      <td>10264.0</td>\n",
              "      <td>0</td>\n",
              "      <td>151</td>\n",
              "      <td>0</td>\n",
              "      <td>NaN</td>\n",
              "      <td>NaN</td>\n",
              "      <td>0.0</td>\n",
              "    </tr>\n",
              "  </tbody>\n",
              "</table>\n",
              "</div>"
            ],
            "text/plain": [
              "          regiao estado              municipio  coduf    codmun  \\\n",
              "5251       Norte     RO  Alta Floresta D'Oeste     11  110001.0   \n",
              "246344  Nordeste     PB              Guarabira     25  250630.0   \n",
              "\n",
              "        codRegiaoSaude nomeRegiaoSaude        data  semanaEpi  \\\n",
              "5251           11005.0    ZONA DA MATA  2022-01-03          1   \n",
              "246344         25002.0      2Âª REGIAO  2022-01-04          1   \n",
              "\n",
              "        populacaoTCU2019  casosAcumulado  casosNovos  obitosAcumulado  \\\n",
              "5251             22945.0          4685.0           5               73   \n",
              "246344           58833.0         10264.0           0              151   \n",
              "\n",
              "        obitosNovos  Recuperadosnovos  emAcompanhamentoNovos  \\\n",
              "5251              1               NaN                    NaN   \n",
              "246344            0               NaN                    NaN   \n",
              "\n",
              "        interior/metropolitana  \n",
              "5251                       0.0  \n",
              "246344                     0.0  "
            ]
          },
          "execution_count": 31,
          "metadata": {},
          "output_type": "execute_result"
        }
      ],
      "source": [
        "files = [f for f in os.listdir(PATH) if os.path.isfile(os.path.join(PATH, f))]\n",
        "df = pd.DataFrame()\n",
        "for f in files:\n",
        "  df = pd.concat([df,pd.read_csv(PATH + f, encoding = \"ISO-8859-1\", sep = ';')])\n",
        "print(df.shape)"
      ]
    },
    {
      "cell_type": "code",
      "execution_count": 32,
      "metadata": {},
      "outputs": [
        {
          "name": "stdout",
          "output_type": "stream",
          "text": [
            "(1431, 7)\n"
          ]
        },
        {
          "data": {
            "text/html": [
              "<div>\n",
              "<style scoped>\n",
              "    .dataframe tbody tr th:only-of-type {\n",
              "        vertical-align: middle;\n",
              "    }\n",
              "\n",
              "    .dataframe tbody tr th {\n",
              "        vertical-align: top;\n",
              "    }\n",
              "\n",
              "    .dataframe thead th {\n",
              "        text-align: right;\n",
              "    }\n",
              "</style>\n",
              "<table border=\"1\" class=\"dataframe\">\n",
              "  <thead>\n",
              "    <tr style=\"text-align: right;\">\n",
              "      <th></th>\n",
              "      <th>estado</th>\n",
              "      <th>semanaEpi</th>\n",
              "      <th>casosAcumulado</th>\n",
              "      <th>obitosAcumulado</th>\n",
              "      <th>populacaoTCU2019</th>\n",
              "      <th>ppCasos</th>\n",
              "      <th>ppObitos</th>\n",
              "    </tr>\n",
              "  </thead>\n",
              "  <tbody>\n",
              "    <tr>\n",
              "      <th>0</th>\n",
              "      <td>AC</td>\n",
              "      <td>1</td>\n",
              "      <td>915691.0</td>\n",
              "      <td>18659</td>\n",
              "      <td>12347090.0</td>\n",
              "      <td>0.074162</td>\n",
              "      <td>0.001511</td>\n",
              "    </tr>\n",
              "    <tr>\n",
              "      <th>1</th>\n",
              "      <td>AC</td>\n",
              "      <td>2</td>\n",
              "      <td>929227.0</td>\n",
              "      <td>18783</td>\n",
              "      <td>12347090.0</td>\n",
              "      <td>0.075259</td>\n",
              "      <td>0.001521</td>\n",
              "    </tr>\n",
              "  </tbody>\n",
              "</table>\n",
              "</div>"
            ],
            "text/plain": [
              "  estado  semanaEpi  casosAcumulado  obitosAcumulado  populacaoTCU2019  \\\n",
              "0     AC          1        915691.0            18659        12347090.0   \n",
              "1     AC          2        929227.0            18783        12347090.0   \n",
              "\n",
              "    ppCasos  ppObitos  \n",
              "0  0.074162  0.001511  \n",
              "1  0.075259  0.001521  "
            ]
          },
          "execution_count": 32,
          "metadata": {},
          "output_type": "execute_result"
        }
      ],
      "source": [
        "df.dropna(subset=['municipio'],inplace=True)\n",
        "df = df.sort_values(by=['semanaEpi'])\n",
        "df = df[['estado','semanaEpi','casosAcumulado','obitosAcumulado','populacaoTCU2019']].groupby(['estado','semanaEpi']).sum().reset_index()\n",
        "df['ppCasos'] = df[\"casosAcumulado\"].div(df[\"populacaoTCU2019\"].values)\n",
        "df['ppObitos'] = df[\"obitosAcumulado\"].div(df[\"populacaoTCU2019\"].values)\n",
        "print(df.shape)\n",
        "df.head(2)"
      ]
    },
    {
      "cell_type": "code",
      "execution_count": 18,
      "metadata": {},
      "outputs": [],
      "source": [
        "with urlopen(\"https://raw.githubusercontent.com/codeforamerica/click_that_hood/master/public/data/brazil-states.geojson\") as response:\n",
        " Brazil = json.load(response) # Javascrip object notation \n",
        "\n",
        "for feature in Brazil ['features']:\n",
        " feature['id'] = feature['properties']['sigla']"
      ]
    },
    {
      "cell_type": "markdown",
      "metadata": {},
      "source": [
        "Agora ao grafico!"
      ]
    },
    {
      "cell_type": "code",
      "execution_count": null,
      "metadata": {},
      "outputs": [],
      "source": [
        "fig = px.choropleth(df.loc[df['semanaEpi']<=52], \n",
        "                    locations =\"estado\", \n",
        "                    color =\"ppCasos\", \n",
        "                    color_continuous_scale = [[0, 'rgb(255,255,255)'],[1, 'rgb(255,0,0)']],\n",
        "                    range_color = [0,0.15],\n",
        "                    geojson = Brazil,\n",
        "                    hover_name =\"estado\",\n",
        "                    animation_frame =\"semanaEpi\") \n",
        "\n",
        "fig.update_geos(fitbounds = \"locations\", visible = False)\n",
        "fig.show()"
      ]
    },
    {
      "cell_type": "code",
      "execution_count": 64,
      "metadata": {},
      "outputs": [
        {
          "ename": "ValueError",
          "evalue": "\n    Invalid value of type 'pandas.core.series.Series' received for the 'colorbar' property of choropleth\n        Received value: 0       0.074162\n1       0.075259\n2       0.077530\n3       0.081285\n4       0.086403\n          ...   \n1426    0.100489\n1427    0.101219\n1428    0.101838\n1429    0.102801\n1430    0.057223\nName: ppCasos, Length: 1431, dtype: float64\n\n    The 'colorbar' property is an instance of ColorBar\n    that may be specified as:\n      - An instance of :class:`plotly.graph_objs.choropleth.ColorBar`\n      - A dict of string/value properties that will be passed\n        to the ColorBar constructor\n\n        Supported dict properties:\n            \n            bgcolor\n                Sets the color of padded area.\n            bordercolor\n                Sets the axis line color.\n            borderwidth\n                Sets the width (in px) or the border enclosing\n                this color bar.\n            dtick\n                Sets the step in-between ticks on this axis.\n                Use with `tick0`. Must be a positive number, or\n                special strings available to \"log\" and \"date\"\n                axes. If the axis `type` is \"log\", then ticks\n                are set every 10^(n*dtick) where n is the tick\n                number. For example, to set a tick mark at 1,\n                10, 100, 1000, ... set dtick to 1. To set tick\n                marks at 1, 100, 10000, ... set dtick to 2. To\n                set tick marks at 1, 5, 25, 125, 625, 3125, ...\n                set dtick to log_10(5), or 0.69897000433. \"log\"\n                has several special values; \"L<f>\", where `f`\n                is a positive number, gives ticks linearly\n                spaced in value (but not position). For example\n                `tick0` = 0.1, `dtick` = \"L0.5\" will put ticks\n                at 0.1, 0.6, 1.1, 1.6 etc. To show powers of 10\n                plus small digits between, use \"D1\" (all\n                digits) or \"D2\" (only 2 and 5). `tick0` is\n                ignored for \"D1\" and \"D2\". If the axis `type`\n                is \"date\", then you must convert the time to\n                milliseconds. For example, to set the interval\n                between ticks to one day, set `dtick` to\n                86400000.0. \"date\" also has special values\n                \"M<n>\" gives ticks spaced by a number of\n                months. `n` must be a positive integer. To set\n                ticks on the 15th of every third month, set\n                `tick0` to \"2000-01-15\" and `dtick` to \"M3\". To\n                set ticks every 4 years, set `dtick` to \"M48\"\n            exponentformat\n                Determines a formatting rule for the tick\n                exponents. For example, consider the number\n                1,000,000,000. If \"none\", it appears as\n                1,000,000,000. If \"e\", 1e+9. If \"E\", 1E+9. If\n                \"power\", 1x10^9 (with 9 in a super script). If\n                \"SI\", 1G. If \"B\", 1B.\n            len\n                Sets the length of the color bar This measure\n                excludes the padding of both ends. That is, the\n                color bar length is this length minus the\n                padding on both ends.\n            lenmode\n                Determines whether this color bar's length\n                (i.e. the measure in the color variation\n                direction) is set in units of plot \"fraction\"\n                or in *pixels. Use `len` to set the value.\n            minexponent\n                Hide SI prefix for 10^n if |n| is below this\n                number. This only has an effect when\n                `tickformat` is \"SI\" or \"B\".\n            nticks\n                Specifies the maximum number of ticks for the\n                particular axis. The actual number of ticks\n                will be chosen automatically to be less than or\n                equal to `nticks`. Has an effect only if\n                `tickmode` is set to \"auto\".\n            orientation\n                Sets the orientation of the colorbar.\n            outlinecolor\n                Sets the axis line color.\n            outlinewidth\n                Sets the width (in px) of the axis line.\n            separatethousands\n                If \"true\", even 4-digit integers are separated\n            showexponent\n                If \"all\", all exponents are shown besides their\n                significands. If \"first\", only the exponent of\n                the first tick is shown. If \"last\", only the\n                exponent of the last tick is shown. If \"none\",\n                no exponents appear.\n            showticklabels\n                Determines whether or not the tick labels are\n                drawn.\n            showtickprefix\n                If \"all\", all tick labels are displayed with a\n                prefix. If \"first\", only the first tick is\n                displayed with a prefix. If \"last\", only the\n                last tick is displayed with a suffix. If\n                \"none\", tick prefixes are hidden.\n            showticksuffix\n                Same as `showtickprefix` but for tick suffixes.\n            thickness\n                Sets the thickness of the color bar This\n                measure excludes the size of the padding, ticks\n                and labels.\n            thicknessmode\n                Determines whether this color bar's thickness\n                (i.e. the measure in the constant color\n                direction) is set in units of plot \"fraction\"\n                or in \"pixels\". Use `thickness` to set the\n                value.\n            tick0\n                Sets the placement of the first tick on this\n                axis. Use with `dtick`. If the axis `type` is\n                \"log\", then you must take the log of your\n                starting tick (e.g. to set the starting tick to\n                100, set the `tick0` to 2) except when\n                `dtick`=*L<f>* (see `dtick` for more info). If\n                the axis `type` is \"date\", it should be a date\n                string, like date data. If the axis `type` is\n                \"category\", it should be a number, using the\n                scale where each category is assigned a serial\n                number from zero in the order it appears.\n            tickangle\n                Sets the angle of the tick labels with respect\n                to the horizontal. For example, a `tickangle`\n                of -90 draws the tick labels vertically.\n            tickcolor\n                Sets the tick color.\n            tickfont\n                Sets the color bar's tick label font\n            tickformat\n                Sets the tick label formatting rule using d3\n                formatting mini-languages which are very\n                similar to those in Python. For numbers, see: h\n                ttps://github.com/d3/d3-format/tree/v1.4.5#d3-f\n                ormat. And for dates see:\n                https://github.com/d3/d3-time-\n                format/tree/v2.2.3#locale_format. We add two\n                items to d3's date formatter: \"%h\" for half of\n                the year as a decimal number as well as \"%{n}f\"\n                for fractional seconds with n digits. For\n                example, *2016-10-13 09:15:23.456* with\n                tickformat \"%H~%M~%S.%2f\" would display\n                \"09~15~23.46\"\n            tickformatstops\n                A tuple of :class:`plotly.graph_objects.choropl\n                eth.colorbar.Tickformatstop` instances or dicts\n                with compatible properties\n            tickformatstopdefaults\n                When used in a template (as layout.template.dat\n                a.choropleth.colorbar.tickformatstopdefaults),\n                sets the default property values to use for\n                elements of choropleth.colorbar.tickformatstops\n            ticklabeloverflow\n                Determines how we handle tick labels that would\n                overflow either the graph div or the domain of\n                the axis. The default value for inside tick\n                labels is *hide past domain*. In other cases\n                the default is *hide past div*.\n            ticklabelposition\n                Determines where tick labels are drawn relative\n                to the ticks. Left and right options are used\n                when `orientation` is \"h\", top and bottom when\n                `orientation` is \"v\".\n            ticklabelstep\n                Sets the spacing between tick labels as\n                compared to the spacing between ticks. A value\n                of 1 (default) means each tick gets a label. A\n                value of 2 means shows every 2nd label. A\n                larger value n means only every nth tick is\n                labeled. `tick0` determines which labels are\n                shown. Not implemented for axes with `type`\n                \"log\" or \"multicategory\", or when `tickmode` is\n                \"array\".\n            ticklen\n                Sets the tick length (in px).\n            tickmode\n                Sets the tick mode for this axis. If \"auto\",\n                the number of ticks is set via `nticks`. If\n                \"linear\", the placement of the ticks is\n                determined by a starting position `tick0` and a\n                tick step `dtick` (\"linear\" is the default\n                value if `tick0` and `dtick` are provided). If\n                \"array\", the placement of the ticks is set via\n                `tickvals` and the tick text is `ticktext`.\n                (\"array\" is the default value if `tickvals` is\n                provided).\n            tickprefix\n                Sets a tick label prefix.\n            ticks\n                Determines whether ticks are drawn or not. If\n                \"\", this axis' ticks are not drawn. If\n                \"outside\" (\"inside\"), this axis' are drawn\n                outside (inside) the axis lines.\n            ticksuffix\n                Sets a tick label suffix.\n            ticktext\n                Sets the text displayed at the ticks position\n                via `tickvals`. Only has an effect if\n                `tickmode` is set to \"array\". Used with\n                `tickvals`.\n            ticktextsrc\n                Sets the source reference on Chart Studio Cloud\n                for `ticktext`.\n            tickvals\n                Sets the values at which ticks on this axis\n                appear. Only has an effect if `tickmode` is set\n                to \"array\". Used with `ticktext`.\n            tickvalssrc\n                Sets the source reference on Chart Studio Cloud\n                for `tickvals`.\n            tickwidth\n                Sets the tick width (in px).\n            title\n                :class:`plotly.graph_objects.choropleth.colorba\n                r.Title` instance or dict with compatible\n                properties\n            titlefont\n                Deprecated: Please use\n                choropleth.colorbar.title.font instead. Sets\n                this color bar's title font. Note that the\n                title's font used to be set by the now\n                deprecated `titlefont` attribute.\n            titleside\n                Deprecated: Please use\n                choropleth.colorbar.title.side instead.\n                Determines the location of color bar's title\n                with respect to the color bar. Defaults to\n                \"top\" when `orientation` if \"v\" and  defaults\n                to \"right\" when `orientation` if \"h\". Note that\n                the title's location used to be set by the now\n                deprecated `titleside` attribute.\n            x\n                Sets the x position of the color bar (in plot\n                fraction). Defaults to 1.02 when `orientation`\n                is \"v\" and 0.5 when `orientation` is \"h\".\n            xanchor\n                Sets this color bar's horizontal position\n                anchor. This anchor binds the `x` position to\n                the \"left\", \"center\" or \"right\" of the color\n                bar. Defaults to \"left\" when `orientation` is\n                \"v\" and \"center\" when `orientation` is \"h\".\n            xpad\n                Sets the amount of padding (in px) along the x\n                direction.\n            y\n                Sets the y position of the color bar (in plot\n                fraction). Defaults to 0.5 when `orientation`\n                is \"v\" and 1.02 when `orientation` is \"h\".\n            yanchor\n                Sets this color bar's vertical position anchor\n                This anchor binds the `y` position to the\n                \"top\", \"middle\" or \"bottom\" of the color bar.\n                Defaults to \"middle\" when `orientation` is \"v\"\n                and \"bottom\" when `orientation` is \"h\".\n            ypad\n                Sets the amount of padding (in px) along the y\n                direction.\n",
          "output_type": "error",
          "traceback": [
            "\u001b[1;31m---------------------------------------------------------------------------\u001b[0m",
            "\u001b[1;31mValueError\u001b[0m                                Traceback (most recent call last)",
            "\u001b[1;32m~\\AppData\\Local\\Temp/ipykernel_16004/4212029704.py\u001b[0m in \u001b[0;36m<module>\u001b[1;34m\u001b[0m\n\u001b[1;32m----> 1\u001b[1;33m fig = go.Choropleth(locations = df[\"estado\"], \n\u001b[0m\u001b[0;32m      2\u001b[0m                     \u001b[0mcolorbar\u001b[0m \u001b[1;33m=\u001b[0m\u001b[0mdf\u001b[0m\u001b[1;33m[\u001b[0m\u001b[1;34m\"ppCasos\"\u001b[0m\u001b[1;33m]\u001b[0m\u001b[1;33m,\u001b[0m\u001b[1;33m\u001b[0m\u001b[1;33m\u001b[0m\u001b[0m\n\u001b[0;32m      3\u001b[0m                     \u001b[0mcolorscale\u001b[0m \u001b[1;33m=\u001b[0m \u001b[1;33m[\u001b[0m\u001b[1;33m[\u001b[0m\u001b[1;36m0\u001b[0m\u001b[1;33m,\u001b[0m \u001b[1;34m'rgb(255,255,255)'\u001b[0m\u001b[1;33m]\u001b[0m\u001b[1;33m,\u001b[0m\u001b[1;33m[\u001b[0m\u001b[1;36m1\u001b[0m\u001b[1;33m,\u001b[0m \u001b[1;34m'rgb(255,0,0)'\u001b[0m\u001b[1;33m]\u001b[0m\u001b[1;33m]\u001b[0m\u001b[1;33m,\u001b[0m\u001b[1;33m\u001b[0m\u001b[1;33m\u001b[0m\u001b[0m\n\u001b[0;32m      4\u001b[0m                     \u001b[0mrange_color\u001b[0m \u001b[1;33m=\u001b[0m \u001b[1;33m[\u001b[0m\u001b[1;36m0\u001b[0m\u001b[1;33m,\u001b[0m\u001b[1;36m0.15\u001b[0m\u001b[1;33m]\u001b[0m\u001b[1;33m,\u001b[0m\u001b[1;33m\u001b[0m\u001b[1;33m\u001b[0m\u001b[0m\n\u001b[0;32m      5\u001b[0m                     \u001b[0mgeojson\u001b[0m \u001b[1;33m=\u001b[0m \u001b[0mBrazil\u001b[0m\u001b[1;33m,\u001b[0m\u001b[1;33m\u001b[0m\u001b[1;33m\u001b[0m\u001b[0m\n",
            "\u001b[1;32mc:\\Users\\pheli\\AppData\\Local\\Programs\\Python\\Python310\\lib\\site-packages\\plotly\\graph_objs\\_choropleth.py\u001b[0m in \u001b[0;36m__init__\u001b[1;34m(self, arg, autocolorscale, coloraxis, colorbar, colorscale, customdata, customdatasrc, featureidkey, geo, geojson, hoverinfo, hoverinfosrc, hoverlabel, hovertemplate, hovertemplatesrc, hovertext, hovertextsrc, ids, idssrc, legendgroup, legendgrouptitle, legendrank, locationmode, locations, locationssrc, marker, meta, metasrc, name, reversescale, selected, selectedpoints, showlegend, showscale, stream, text, textsrc, uid, uirevision, unselected, visible, z, zauto, zmax, zmid, zmin, zsrc, **kwargs)\u001b[0m\n\u001b[0;32m   2076\u001b[0m         \u001b[0m_v\u001b[0m \u001b[1;33m=\u001b[0m \u001b[0mcolorbar\u001b[0m \u001b[1;32mif\u001b[0m \u001b[0mcolorbar\u001b[0m \u001b[1;32mis\u001b[0m \u001b[1;32mnot\u001b[0m \u001b[1;32mNone\u001b[0m \u001b[1;32melse\u001b[0m \u001b[0m_v\u001b[0m\u001b[1;33m\u001b[0m\u001b[1;33m\u001b[0m\u001b[0m\n\u001b[0;32m   2077\u001b[0m         \u001b[1;32mif\u001b[0m \u001b[0m_v\u001b[0m \u001b[1;32mis\u001b[0m \u001b[1;32mnot\u001b[0m \u001b[1;32mNone\u001b[0m\u001b[1;33m:\u001b[0m\u001b[1;33m\u001b[0m\u001b[1;33m\u001b[0m\u001b[0m\n\u001b[1;32m-> 2078\u001b[1;33m             \u001b[0mself\u001b[0m\u001b[1;33m[\u001b[0m\u001b[1;34m\"colorbar\"\u001b[0m\u001b[1;33m]\u001b[0m \u001b[1;33m=\u001b[0m \u001b[0m_v\u001b[0m\u001b[1;33m\u001b[0m\u001b[1;33m\u001b[0m\u001b[0m\n\u001b[0m\u001b[0;32m   2079\u001b[0m         \u001b[0m_v\u001b[0m \u001b[1;33m=\u001b[0m \u001b[0marg\u001b[0m\u001b[1;33m.\u001b[0m\u001b[0mpop\u001b[0m\u001b[1;33m(\u001b[0m\u001b[1;34m\"colorscale\"\u001b[0m\u001b[1;33m,\u001b[0m \u001b[1;32mNone\u001b[0m\u001b[1;33m)\u001b[0m\u001b[1;33m\u001b[0m\u001b[1;33m\u001b[0m\u001b[0m\n\u001b[0;32m   2080\u001b[0m         \u001b[0m_v\u001b[0m \u001b[1;33m=\u001b[0m \u001b[0mcolorscale\u001b[0m \u001b[1;32mif\u001b[0m \u001b[0mcolorscale\u001b[0m \u001b[1;32mis\u001b[0m \u001b[1;32mnot\u001b[0m \u001b[1;32mNone\u001b[0m \u001b[1;32melse\u001b[0m \u001b[0m_v\u001b[0m\u001b[1;33m\u001b[0m\u001b[1;33m\u001b[0m\u001b[0m\n",
            "\u001b[1;32mc:\\Users\\pheli\\AppData\\Local\\Programs\\Python\\Python310\\lib\\site-packages\\plotly\\basedatatypes.py\u001b[0m in \u001b[0;36m__setitem__\u001b[1;34m(self, prop, value)\u001b[0m\n\u001b[0;32m   4849\u001b[0m                 \u001b[1;31m# ### Handle compound property ###\u001b[0m\u001b[1;33m\u001b[0m\u001b[1;33m\u001b[0m\u001b[0m\n\u001b[0;32m   4850\u001b[0m                 \u001b[1;32mif\u001b[0m \u001b[0misinstance\u001b[0m\u001b[1;33m(\u001b[0m\u001b[0mvalidator\u001b[0m\u001b[1;33m,\u001b[0m \u001b[0mCompoundValidator\u001b[0m\u001b[1;33m)\u001b[0m\u001b[1;33m:\u001b[0m\u001b[1;33m\u001b[0m\u001b[1;33m\u001b[0m\u001b[0m\n\u001b[1;32m-> 4851\u001b[1;33m                     \u001b[0mself\u001b[0m\u001b[1;33m.\u001b[0m\u001b[0m_set_compound_prop\u001b[0m\u001b[1;33m(\u001b[0m\u001b[0mprop\u001b[0m\u001b[1;33m,\u001b[0m \u001b[0mvalue\u001b[0m\u001b[1;33m)\u001b[0m\u001b[1;33m\u001b[0m\u001b[1;33m\u001b[0m\u001b[0m\n\u001b[0m\u001b[0;32m   4852\u001b[0m \u001b[1;33m\u001b[0m\u001b[0m\n\u001b[0;32m   4853\u001b[0m                 \u001b[1;31m# ### Handle compound array property ###\u001b[0m\u001b[1;33m\u001b[0m\u001b[1;33m\u001b[0m\u001b[0m\n",
            "\u001b[1;32mc:\\Users\\pheli\\AppData\\Local\\Programs\\Python\\Python310\\lib\\site-packages\\plotly\\basedatatypes.py\u001b[0m in \u001b[0;36m_set_compound_prop\u001b[1;34m(self, prop, val)\u001b[0m\n\u001b[0;32m   5260\u001b[0m         \u001b[1;31m# ------------\u001b[0m\u001b[1;33m\u001b[0m\u001b[1;33m\u001b[0m\u001b[0m\n\u001b[0;32m   5261\u001b[0m         \u001b[0mvalidator\u001b[0m \u001b[1;33m=\u001b[0m \u001b[0mself\u001b[0m\u001b[1;33m.\u001b[0m\u001b[0m_get_validator\u001b[0m\u001b[1;33m(\u001b[0m\u001b[0mprop\u001b[0m\u001b[1;33m)\u001b[0m\u001b[1;33m\u001b[0m\u001b[1;33m\u001b[0m\u001b[0m\n\u001b[1;32m-> 5262\u001b[1;33m         \u001b[0mval\u001b[0m \u001b[1;33m=\u001b[0m \u001b[0mvalidator\u001b[0m\u001b[1;33m.\u001b[0m\u001b[0mvalidate_coerce\u001b[0m\u001b[1;33m(\u001b[0m\u001b[0mval\u001b[0m\u001b[1;33m,\u001b[0m \u001b[0mskip_invalid\u001b[0m\u001b[1;33m=\u001b[0m\u001b[0mself\u001b[0m\u001b[1;33m.\u001b[0m\u001b[0m_skip_invalid\u001b[0m\u001b[1;33m)\u001b[0m\u001b[1;33m\u001b[0m\u001b[1;33m\u001b[0m\u001b[0m\n\u001b[0m\u001b[0;32m   5263\u001b[0m \u001b[1;33m\u001b[0m\u001b[0m\n\u001b[0;32m   5264\u001b[0m         \u001b[1;31m# Save deep copies of current and new states\u001b[0m\u001b[1;33m\u001b[0m\u001b[1;33m\u001b[0m\u001b[0m\n",
            "\u001b[1;32mc:\\Users\\pheli\\AppData\\Local\\Programs\\Python\\Python310\\lib\\site-packages\\_plotly_utils\\basevalidators.py\u001b[0m in \u001b[0;36mvalidate_coerce\u001b[1;34m(self, v, skip_invalid, _validate)\u001b[0m\n\u001b[0;32m   2462\u001b[0m                 \u001b[0mv\u001b[0m \u001b[1;33m=\u001b[0m \u001b[0mself\u001b[0m\u001b[1;33m.\u001b[0m\u001b[0mdata_class\u001b[0m\u001b[1;33m(\u001b[0m\u001b[1;33m)\u001b[0m\u001b[1;33m\u001b[0m\u001b[1;33m\u001b[0m\u001b[0m\n\u001b[0;32m   2463\u001b[0m             \u001b[1;32melse\u001b[0m\u001b[1;33m:\u001b[0m\u001b[1;33m\u001b[0m\u001b[1;33m\u001b[0m\u001b[0m\n\u001b[1;32m-> 2464\u001b[1;33m                 \u001b[0mself\u001b[0m\u001b[1;33m.\u001b[0m\u001b[0mraise_invalid_val\u001b[0m\u001b[1;33m(\u001b[0m\u001b[0mv\u001b[0m\u001b[1;33m)\u001b[0m\u001b[1;33m\u001b[0m\u001b[1;33m\u001b[0m\u001b[0m\n\u001b[0m\u001b[0;32m   2465\u001b[0m \u001b[1;33m\u001b[0m\u001b[0m\n\u001b[0;32m   2466\u001b[0m         \u001b[0mv\u001b[0m\u001b[1;33m.\u001b[0m\u001b[0m_plotly_name\u001b[0m \u001b[1;33m=\u001b[0m \u001b[0mself\u001b[0m\u001b[1;33m.\u001b[0m\u001b[0mplotly_name\u001b[0m\u001b[1;33m\u001b[0m\u001b[1;33m\u001b[0m\u001b[0m\n",
            "\u001b[1;32mc:\\Users\\pheli\\AppData\\Local\\Programs\\Python\\Python310\\lib\\site-packages\\_plotly_utils\\basevalidators.py\u001b[0m in \u001b[0;36mraise_invalid_val\u001b[1;34m(self, v, inds)\u001b[0m\n\u001b[0;32m    286\u001b[0m                 \u001b[0mname\u001b[0m \u001b[1;33m+=\u001b[0m \u001b[1;34m\"[\"\u001b[0m \u001b[1;33m+\u001b[0m \u001b[0mstr\u001b[0m\u001b[1;33m(\u001b[0m\u001b[0mi\u001b[0m\u001b[1;33m)\u001b[0m \u001b[1;33m+\u001b[0m \u001b[1;34m\"]\"\u001b[0m\u001b[1;33m\u001b[0m\u001b[1;33m\u001b[0m\u001b[0m\n\u001b[0;32m    287\u001b[0m \u001b[1;33m\u001b[0m\u001b[0m\n\u001b[1;32m--> 288\u001b[1;33m         raise ValueError(\n\u001b[0m\u001b[0;32m    289\u001b[0m             \"\"\"\n\u001b[0;32m    290\u001b[0m     \u001b[0mInvalid\u001b[0m \u001b[0mvalue\u001b[0m \u001b[0mof\u001b[0m \u001b[0mtype\u001b[0m \u001b[1;33m{\u001b[0m\u001b[0mtyp\u001b[0m\u001b[1;33m}\u001b[0m \u001b[0mreceived\u001b[0m \u001b[1;32mfor\u001b[0m \u001b[0mthe\u001b[0m \u001b[1;34m'{name}'\u001b[0m \u001b[0mproperty\u001b[0m \u001b[0mof\u001b[0m \u001b[1;33m{\u001b[0m\u001b[0mpname\u001b[0m\u001b[1;33m}\u001b[0m\u001b[1;33m\u001b[0m\u001b[1;33m\u001b[0m\u001b[0m\n",
            "\u001b[1;31mValueError\u001b[0m: \n    Invalid value of type 'pandas.core.series.Series' received for the 'colorbar' property of choropleth\n        Received value: 0       0.074162\n1       0.075259\n2       0.077530\n3       0.081285\n4       0.086403\n          ...   \n1426    0.100489\n1427    0.101219\n1428    0.101838\n1429    0.102801\n1430    0.057223\nName: ppCasos, Length: 1431, dtype: float64\n\n    The 'colorbar' property is an instance of ColorBar\n    that may be specified as:\n      - An instance of :class:`plotly.graph_objs.choropleth.ColorBar`\n      - A dict of string/value properties that will be passed\n        to the ColorBar constructor\n\n        Supported dict properties:\n            \n            bgcolor\n                Sets the color of padded area.\n            bordercolor\n                Sets the axis line color.\n            borderwidth\n                Sets the width (in px) or the border enclosing\n                this color bar.\n            dtick\n                Sets the step in-between ticks on this axis.\n                Use with `tick0`. Must be a positive number, or\n                special strings available to \"log\" and \"date\"\n                axes. If the axis `type` is \"log\", then ticks\n                are set every 10^(n*dtick) where n is the tick\n                number. For example, to set a tick mark at 1,\n                10, 100, 1000, ... set dtick to 1. To set tick\n                marks at 1, 100, 10000, ... set dtick to 2. To\n                set tick marks at 1, 5, 25, 125, 625, 3125, ...\n                set dtick to log_10(5), or 0.69897000433. \"log\"\n                has several special values; \"L<f>\", where `f`\n                is a positive number, gives ticks linearly\n                spaced in value (but not position). For example\n                `tick0` = 0.1, `dtick` = \"L0.5\" will put ticks\n                at 0.1, 0.6, 1.1, 1.6 etc. To show powers of 10\n                plus small digits between, use \"D1\" (all\n                digits) or \"D2\" (only 2 and 5). `tick0` is\n                ignored for \"D1\" and \"D2\". If the axis `type`\n                is \"date\", then you must convert the time to\n                milliseconds. For example, to set the interval\n                between ticks to one day, set `dtick` to\n                86400000.0. \"date\" also has special values\n                \"M<n>\" gives ticks spaced by a number of\n                months. `n` must be a positive integer. To set\n                ticks on the 15th of every third month, set\n                `tick0` to \"2000-01-15\" and `dtick` to \"M3\". To\n                set ticks every 4 years, set `dtick` to \"M48\"\n            exponentformat\n                Determines a formatting rule for the tick\n                exponents. For example, consider the number\n                1,000,000,000. If \"none\", it appears as\n                1,000,000,000. If \"e\", 1e+9. If \"E\", 1E+9. If\n                \"power\", 1x10^9 (with 9 in a super script). If\n                \"SI\", 1G. If \"B\", 1B.\n            len\n                Sets the length of the color bar This measure\n                excludes the padding of both ends. That is, the\n                color bar length is this length minus the\n                padding on both ends.\n            lenmode\n                Determines whether this color bar's length\n                (i.e. the measure in the color variation\n                direction) is set in units of plot \"fraction\"\n                or in *pixels. Use `len` to set the value.\n            minexponent\n                Hide SI prefix for 10^n if |n| is below this\n                number. This only has an effect when\n                `tickformat` is \"SI\" or \"B\".\n            nticks\n                Specifies the maximum number of ticks for the\n                particular axis. The actual number of ticks\n                will be chosen automatically to be less than or\n                equal to `nticks`. Has an effect only if\n                `tickmode` is set to \"auto\".\n            orientation\n                Sets the orientation of the colorbar.\n            outlinecolor\n                Sets the axis line color.\n            outlinewidth\n                Sets the width (in px) of the axis line.\n            separatethousands\n                If \"true\", even 4-digit integers are separated\n            showexponent\n                If \"all\", all exponents are shown besides their\n                significands. If \"first\", only the exponent of\n                the first tick is shown. If \"last\", only the\n                exponent of the last tick is shown. If \"none\",\n                no exponents appear.\n            showticklabels\n                Determines whether or not the tick labels are\n                drawn.\n            showtickprefix\n                If \"all\", all tick labels are displayed with a\n                prefix. If \"first\", only the first tick is\n                displayed with a prefix. If \"last\", only the\n                last tick is displayed with a suffix. If\n                \"none\", tick prefixes are hidden.\n            showticksuffix\n                Same as `showtickprefix` but for tick suffixes.\n            thickness\n                Sets the thickness of the color bar This\n                measure excludes the size of the padding, ticks\n                and labels.\n            thicknessmode\n                Determines whether this color bar's thickness\n                (i.e. the measure in the constant color\n                direction) is set in units of plot \"fraction\"\n                or in \"pixels\". Use `thickness` to set the\n                value.\n            tick0\n                Sets the placement of the first tick on this\n                axis. Use with `dtick`. If the axis `type` is\n                \"log\", then you must take the log of your\n                starting tick (e.g. to set the starting tick to\n                100, set the `tick0` to 2) except when\n                `dtick`=*L<f>* (see `dtick` for more info). If\n                the axis `type` is \"date\", it should be a date\n                string, like date data. If the axis `type` is\n                \"category\", it should be a number, using the\n                scale where each category is assigned a serial\n                number from zero in the order it appears.\n            tickangle\n                Sets the angle of the tick labels with respect\n                to the horizontal. For example, a `tickangle`\n                of -90 draws the tick labels vertically.\n            tickcolor\n                Sets the tick color.\n            tickfont\n                Sets the color bar's tick label font\n            tickformat\n                Sets the tick label formatting rule using d3\n                formatting mini-languages which are very\n                similar to those in Python. For numbers, see: h\n                ttps://github.com/d3/d3-format/tree/v1.4.5#d3-f\n                ormat. And for dates see:\n                https://github.com/d3/d3-time-\n                format/tree/v2.2.3#locale_format. We add two\n                items to d3's date formatter: \"%h\" for half of\n                the year as a decimal number as well as \"%{n}f\"\n                for fractional seconds with n digits. For\n                example, *2016-10-13 09:15:23.456* with\n                tickformat \"%H~%M~%S.%2f\" would display\n                \"09~15~23.46\"\n            tickformatstops\n                A tuple of :class:`plotly.graph_objects.choropl\n                eth.colorbar.Tickformatstop` instances or dicts\n                with compatible properties\n            tickformatstopdefaults\n                When used in a template (as layout.template.dat\n                a.choropleth.colorbar.tickformatstopdefaults),\n                sets the default property values to use for\n                elements of choropleth.colorbar.tickformatstops\n            ticklabeloverflow\n                Determines how we handle tick labels that would\n                overflow either the graph div or the domain of\n                the axis. The default value for inside tick\n                labels is *hide past domain*. In other cases\n                the default is *hide past div*.\n            ticklabelposition\n                Determines where tick labels are drawn relative\n                to the ticks. Left and right options are used\n                when `orientation` is \"h\", top and bottom when\n                `orientation` is \"v\".\n            ticklabelstep\n                Sets the spacing between tick labels as\n                compared to the spacing between ticks. A value\n                of 1 (default) means each tick gets a label. A\n                value of 2 means shows every 2nd label. A\n                larger value n means only every nth tick is\n                labeled. `tick0` determines which labels are\n                shown. Not implemented for axes with `type`\n                \"log\" or \"multicategory\", or when `tickmode` is\n                \"array\".\n            ticklen\n                Sets the tick length (in px).\n            tickmode\n                Sets the tick mode for this axis. If \"auto\",\n                the number of ticks is set via `nticks`. If\n                \"linear\", the placement of the ticks is\n                determined by a starting position `tick0` and a\n                tick step `dtick` (\"linear\" is the default\n                value if `tick0` and `dtick` are provided). If\n                \"array\", the placement of the ticks is set via\n                `tickvals` and the tick text is `ticktext`.\n                (\"array\" is the default value if `tickvals` is\n                provided).\n            tickprefix\n                Sets a tick label prefix.\n            ticks\n                Determines whether ticks are drawn or not. If\n                \"\", this axis' ticks are not drawn. If\n                \"outside\" (\"inside\"), this axis' are drawn\n                outside (inside) the axis lines.\n            ticksuffix\n                Sets a tick label suffix.\n            ticktext\n                Sets the text displayed at the ticks position\n                via `tickvals`. Only has an effect if\n                `tickmode` is set to \"array\". Used with\n                `tickvals`.\n            ticktextsrc\n                Sets the source reference on Chart Studio Cloud\n                for `ticktext`.\n            tickvals\n                Sets the values at which ticks on this axis\n                appear. Only has an effect if `tickmode` is set\n                to \"array\". Used with `ticktext`.\n            tickvalssrc\n                Sets the source reference on Chart Studio Cloud\n                for `tickvals`.\n            tickwidth\n                Sets the tick width (in px).\n            title\n                :class:`plotly.graph_objects.choropleth.colorba\n                r.Title` instance or dict with compatible\n                properties\n            titlefont\n                Deprecated: Please use\n                choropleth.colorbar.title.font instead. Sets\n                this color bar's title font. Note that the\n                title's font used to be set by the now\n                deprecated `titlefont` attribute.\n            titleside\n                Deprecated: Please use\n                choropleth.colorbar.title.side instead.\n                Determines the location of color bar's title\n                with respect to the color bar. Defaults to\n                \"top\" when `orientation` if \"v\" and  defaults\n                to \"right\" when `orientation` if \"h\". Note that\n                the title's location used to be set by the now\n                deprecated `titleside` attribute.\n            x\n                Sets the x position of the color bar (in plot\n                fraction). Defaults to 1.02 when `orientation`\n                is \"v\" and 0.5 when `orientation` is \"h\".\n            xanchor\n                Sets this color bar's horizontal position\n                anchor. This anchor binds the `x` position to\n                the \"left\", \"center\" or \"right\" of the color\n                bar. Defaults to \"left\" when `orientation` is\n                \"v\" and \"center\" when `orientation` is \"h\".\n            xpad\n                Sets the amount of padding (in px) along the x\n                direction.\n            y\n                Sets the y position of the color bar (in plot\n                fraction). Defaults to 0.5 when `orientation`\n                is \"v\" and 1.02 when `orientation` is \"h\".\n            yanchor\n                Sets this color bar's vertical position anchor\n                This anchor binds the `y` position to the\n                \"top\", \"middle\" or \"bottom\" of the color bar.\n                Defaults to \"middle\" when `orientation` is \"v\"\n                and \"bottom\" when `orientation` is \"h\".\n            ypad\n                Sets the amount of padding (in px) along the y\n                direction.\n"
          ]
        }
      ],
      "source": [
        "fig = go.Choropleth(locations = df[\"estado\"], \n",
        "                    colorbar =df[\"ppCasos\"], \n",
        "                    colorscale = [[0, 'rgb(255,255,255)'],[1, 'rgb(255,0,0)']],\n",
        "                    range_color = [0,0.15],\n",
        "                    geojson = Brazil,\n",
        "                    animation_frame =\"semanaEpi\") \n",
        "\n",
        "fig.update_geos(fitbounds = \"locations\", visible = False)\n",
        "fig.show()"
      ]
    },
    {
      "cell_type": "markdown",
      "metadata": {},
      "source": [
        "Agora vou exportar um gif com esse grafico animado"
      ]
    },
    {
      "cell_type": "code",
      "execution_count": 55,
      "metadata": {},
      "outputs": [
        {
          "ename": "TypeError",
          "evalue": "'module' object is not callable",
          "output_type": "error",
          "traceback": [
            "\u001b[1;31m---------------------------------------------------------------------------\u001b[0m",
            "\u001b[1;31mTypeError\u001b[0m                                 Traceback (most recent call last)",
            "\u001b[1;32m~\\AppData\\Local\\Temp/ipykernel_16004/2002904339.py\u001b[0m in \u001b[0;36m<module>\u001b[1;34m\u001b[0m\n\u001b[0;32m     17\u001b[0m \u001b[0mframes\u001b[0m \u001b[1;33m=\u001b[0m \u001b[1;33m[\u001b[0m\u001b[1;33m]\u001b[0m\u001b[1;33m\u001b[0m\u001b[1;33m\u001b[0m\u001b[0m\n\u001b[0;32m     18\u001b[0m \u001b[1;32mfor\u001b[0m \u001b[0mi\u001b[0m \u001b[1;32min\u001b[0m \u001b[0mrange\u001b[0m\u001b[1;33m(\u001b[0m\u001b[1;36m10\u001b[0m\u001b[1;33m)\u001b[0m\u001b[1;33m:\u001b[0m\u001b[1;33m\u001b[0m\u001b[1;33m\u001b[0m\u001b[0m\n\u001b[1;32m---> 19\u001b[1;33m     \u001b[0mframe\u001b[0m \u001b[1;33m=\u001b[0m \u001b[0mplot\u001b[0m\u001b[1;33m(\u001b[0m\u001b[0mi\u001b[0m\u001b[1;33m)\u001b[0m\u001b[1;33m\u001b[0m\u001b[1;33m\u001b[0m\u001b[0m\n\u001b[0m\u001b[0;32m     20\u001b[0m     \u001b[0mframes\u001b[0m\u001b[1;33m.\u001b[0m\u001b[0mappend\u001b[0m\u001b[1;33m(\u001b[0m\u001b[0mframe\u001b[0m\u001b[1;33m)\u001b[0m\u001b[1;33m\u001b[0m\u001b[1;33m\u001b[0m\u001b[0m\n\u001b[0;32m     21\u001b[0m \u001b[1;33m\u001b[0m\u001b[0m\n",
            "\u001b[1;32mc:\\Users\\pheli\\AppData\\Local\\Programs\\Python\\Python310\\lib\\site-packages\\gif.py\u001b[0m in \u001b[0;36mwrapper\u001b[1;34m(*args, **kwargs)\u001b[0m\n\u001b[0;32m     42\u001b[0m     \u001b[1;32mdef\u001b[0m \u001b[0mwrapper\u001b[0m\u001b[1;33m(\u001b[0m\u001b[1;33m*\u001b[0m\u001b[0margs\u001b[0m\u001b[1;33m,\u001b[0m \u001b[1;33m**\u001b[0m\u001b[0mkwargs\u001b[0m\u001b[1;33m)\u001b[0m\u001b[1;33m:\u001b[0m\u001b[1;33m\u001b[0m\u001b[1;33m\u001b[0m\u001b[0m\n\u001b[0;32m     43\u001b[0m         \u001b[0mbuffer\u001b[0m \u001b[1;33m=\u001b[0m \u001b[0mBuffer\u001b[0m\u001b[1;33m(\u001b[0m\u001b[1;33m)\u001b[0m\u001b[1;33m\u001b[0m\u001b[1;33m\u001b[0m\u001b[0m\n\u001b[1;32m---> 44\u001b[1;33m         \u001b[0mfunc\u001b[0m\u001b[1;33m(\u001b[0m\u001b[1;33m*\u001b[0m\u001b[0margs\u001b[0m\u001b[1;33m,\u001b[0m \u001b[1;33m**\u001b[0m\u001b[0mkwargs\u001b[0m\u001b[1;33m)\u001b[0m\u001b[1;33m\u001b[0m\u001b[1;33m\u001b[0m\u001b[0m\n\u001b[0m\u001b[0;32m     45\u001b[0m         \u001b[0mplt\u001b[0m\u001b[1;33m.\u001b[0m\u001b[0msavefig\u001b[0m\u001b[1;33m(\u001b[0m\u001b[0mbuffer\u001b[0m\u001b[1;33m,\u001b[0m \u001b[0mformat\u001b[0m\u001b[1;33m=\u001b[0m\u001b[1;34m\"png\"\u001b[0m\u001b[1;33m,\u001b[0m \u001b[1;33m**\u001b[0m\u001b[0moptions\u001b[0m\u001b[1;33m.\u001b[0m\u001b[0mmatplotlib\u001b[0m\u001b[1;33m)\u001b[0m\u001b[1;33m\u001b[0m\u001b[1;33m\u001b[0m\u001b[0m\n\u001b[0;32m     46\u001b[0m         \u001b[0mplt\u001b[0m\u001b[1;33m.\u001b[0m\u001b[0mclose\u001b[0m\u001b[1;33m(\u001b[0m\u001b[1;33m)\u001b[0m\u001b[1;33m\u001b[0m\u001b[1;33m\u001b[0m\u001b[0m\n",
            "\u001b[1;32m~\\AppData\\Local\\Temp/ipykernel_16004/2002904339.py\u001b[0m in \u001b[0;36mplot\u001b[1;34m(i)\u001b[0m\n\u001b[0;32m      3\u001b[0m     \u001b[0md\u001b[0m \u001b[1;33m=\u001b[0m \u001b[0mdf\u001b[0m\u001b[1;33m[\u001b[0m\u001b[0mdf\u001b[0m\u001b[1;33m[\u001b[0m\u001b[1;34m'semanaEpi'\u001b[0m\u001b[1;33m]\u001b[0m \u001b[1;33m==\u001b[0m \u001b[0mi\u001b[0m\u001b[1;33m]\u001b[0m\u001b[1;33m\u001b[0m\u001b[1;33m\u001b[0m\u001b[0m\n\u001b[0;32m      4\u001b[0m     \u001b[0mfig\u001b[0m \u001b[1;33m=\u001b[0m \u001b[0mgo\u001b[0m\u001b[1;33m.\u001b[0m\u001b[0mFigure\u001b[0m\u001b[1;33m(\u001b[0m\u001b[1;33m)\u001b[0m\u001b[1;33m\u001b[0m\u001b[1;33m\u001b[0m\u001b[0m\n\u001b[1;32m----> 5\u001b[1;33m     fig.add_trace(go.choropleth(d, \n\u001b[0m\u001b[0;32m      6\u001b[0m                     \u001b[0mlocations\u001b[0m \u001b[1;33m=\u001b[0m\u001b[1;34m\"estado\"\u001b[0m\u001b[1;33m,\u001b[0m\u001b[1;33m\u001b[0m\u001b[1;33m\u001b[0m\u001b[0m\n\u001b[0;32m      7\u001b[0m                     \u001b[0mcolor\u001b[0m \u001b[1;33m=\u001b[0m\u001b[1;34m\"ppCasos\"\u001b[0m\u001b[1;33m,\u001b[0m\u001b[1;33m\u001b[0m\u001b[1;33m\u001b[0m\u001b[0m\n",
            "\u001b[1;31mTypeError\u001b[0m: 'module' object is not callable"
          ]
        }
      ],
      "source": [
        "@gif.frame\n",
        "def plot(i):\n",
        "    d = df[df['semanaEpi'] == i]\n",
        "    fig = go.Figure()\n",
        "    fig.add_trace(go.choropleth(d, \n",
        "                    locations =\"estado\", \n",
        "                    color =\"ppCasos\", \n",
        "                    color_continuous_scale = [[0, 'rgb(255,255,255)'],[1, 'rgb(255,0,0)']],\n",
        "                    range_color = [0,0.15],\n",
        "                    geojson = Brazil,\n",
        "                    hover_name =\"estado\",\n",
        "                    animation_frame =\"semanaEpi\"))\n",
        "    fig.update_layout(width=500, height=300)\n",
        "    fig.update_geos(fitbounds = \"locations\", visible = False)\n",
        "    return fig\n",
        "\n",
        "frames = []\n",
        "for i in range(10):\n",
        "    frame = plot(i)\n",
        "    frames.append(frame)\n",
        "\n",
        "gif.save(frames, 'example.gif', duration=100)"
      ]
    },
    {
      "cell_type": "code",
      "execution_count": null,
      "metadata": {},
      "outputs": [],
      "source": []
    }
  ],
  "metadata": {
    "colab": {
      "authorship_tag": "ABX9TyNMxLYgUvpkkRBcT6EZO0nz",
      "name": "COVID-Brazil.ipynb",
      "provenance": []
    },
    "kernelspec": {
      "display_name": "Python 3.10.1 64-bit",
      "language": "python",
      "name": "python3"
    },
    "language_info": {
      "codemirror_mode": {
        "name": "ipython",
        "version": 3
      },
      "file_extension": ".py",
      "mimetype": "text/x-python",
      "name": "python",
      "nbconvert_exporter": "python",
      "pygments_lexer": "ipython3",
      "version": "3.10.1"
    },
    "vscode": {
      "interpreter": {
        "hash": "b39dd087fcfe95e8aaa1fe490f69941aec88c99a8a49968bf1c41247879683e7"
      }
    }
  },
  "nbformat": 4,
  "nbformat_minor": 0
}
