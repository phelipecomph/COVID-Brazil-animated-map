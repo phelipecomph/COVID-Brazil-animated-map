{
  "cells": [
    {
      "cell_type": "code",
      "execution_count": 1,
      "metadata": {
        "colab": {
          "base_uri": "https://localhost:8080/"
        },
        "id": "e0l5ngFufeL4",
        "outputId": "d60bf4ea-65a3-46bd-ae44-8c85837306cb"
      },
      "outputs": [
        {
          "name": "stdout",
          "output_type": "stream",
          "text": [
            "Requirement already satisfied: pip in c:\\users\\pheli\\appdata\\local\\programs\\python\\python310\\lib\\site-packages (22.2.1)\n",
            "Requirement already satisfied: geopandas in c:\\users\\pheli\\appdata\\local\\programs\\python\\python310\\lib\\site-packages (0.11.1)\n",
            "Requirement already satisfied: pyproj>=2.6.1.post1 in c:\\users\\pheli\\appdata\\local\\programs\\python\\python310\\lib\\site-packages (from geopandas) (3.3.1)\n",
            "Requirement already satisfied: shapely<2,>=1.7 in c:\\users\\pheli\\appdata\\local\\programs\\python\\python310\\lib\\site-packages (from geopandas) (1.8.2)\n",
            "Requirement already satisfied: fiona>=1.8 in c:\\users\\pheli\\appdata\\local\\programs\\python\\python310\\lib\\site-packages (from geopandas) (1.8.21)\n",
            "Requirement already satisfied: packaging in c:\\users\\pheli\\appdata\\local\\programs\\python\\python310\\lib\\site-packages (from geopandas) (21.3)\n",
            "Requirement already satisfied: pandas>=1.0.0 in c:\\users\\pheli\\appdata\\local\\programs\\python\\python310\\lib\\site-packages (from geopandas) (1.4.3)\n",
            "Requirement already satisfied: attrs>=17 in c:\\users\\pheli\\appdata\\local\\programs\\python\\python310\\lib\\site-packages (from fiona>=1.8->geopandas) (22.1.0)\n",
            "Requirement already satisfied: gdal~=3.4.3 in c:\\users\\pheli\\appdata\\local\\programs\\python\\python310\\lib\\site-packages (from fiona>=1.8->geopandas) (3.4.3)\n",
            "Requirement already satisfied: six>=1.7 in c:\\users\\pheli\\appdata\\local\\programs\\python\\python310\\lib\\site-packages (from fiona>=1.8->geopandas) (1.16.0)\n",
            "Requirement already satisfied: cligj>=0.5 in c:\\users\\pheli\\appdata\\local\\programs\\python\\python310\\lib\\site-packages (from fiona>=1.8->geopandas) (0.7.2)\n",
            "Requirement already satisfied: click-plugins>=1.0 in c:\\users\\pheli\\appdata\\local\\programs\\python\\python310\\lib\\site-packages (from fiona>=1.8->geopandas) (1.1.1)\n",
            "Requirement already satisfied: munch in c:\\users\\pheli\\appdata\\local\\programs\\python\\python310\\lib\\site-packages (from fiona>=1.8->geopandas) (2.5.0)\n",
            "Requirement already satisfied: setuptools in c:\\users\\pheli\\appdata\\local\\programs\\python\\python310\\lib\\site-packages (from fiona>=1.8->geopandas) (58.1.0)\n",
            "Requirement already satisfied: certifi in c:\\users\\pheli\\appdata\\local\\programs\\python\\python310\\lib\\site-packages (from fiona>=1.8->geopandas) (2022.6.15)\n",
            "Requirement already satisfied: click>=4.0 in c:\\users\\pheli\\appdata\\local\\programs\\python\\python310\\lib\\site-packages (from fiona>=1.8->geopandas) (8.1.3)\n",
            "Requirement already satisfied: python-dateutil>=2.8.1 in c:\\users\\pheli\\appdata\\local\\programs\\python\\python310\\lib\\site-packages (from pandas>=1.0.0->geopandas) (2.8.2)\n",
            "Requirement already satisfied: pytz>=2020.1 in c:\\users\\pheli\\appdata\\local\\programs\\python\\python310\\lib\\site-packages (from pandas>=1.0.0->geopandas) (2021.3)\n",
            "Requirement already satisfied: numpy>=1.21.0 in c:\\users\\pheli\\appdata\\local\\programs\\python\\python310\\lib\\site-packages (from pandas>=1.0.0->geopandas) (1.22.4+vanilla)\n",
            "Requirement already satisfied: pyparsing!=3.0.5,>=2.0.2 in c:\\users\\pheli\\appdata\\local\\programs\\python\\python310\\lib\\site-packages (from packaging->geopandas) (3.0.9)\n",
            "Requirement already satisfied: colorama in c:\\users\\pheli\\appdata\\local\\programs\\python\\python310\\lib\\site-packages (from click>=4.0->fiona>=1.8->geopandas) (0.4.4)\n",
            "Requirement already satisfied: selenium in c:\\users\\pheli\\appdata\\local\\programs\\python\\python310\\lib\\site-packages (4.3.0)\n",
            "Requirement already satisfied: trio-websocket~=0.9 in c:\\users\\pheli\\appdata\\local\\programs\\python\\python310\\lib\\site-packages (from selenium) (0.9.2)\n",
            "Requirement already satisfied: urllib3[secure,socks]~=1.26 in c:\\users\\pheli\\appdata\\local\\programs\\python\\python310\\lib\\site-packages (from selenium) (1.26.11)\n",
            "Requirement already satisfied: trio~=0.17 in c:\\users\\pheli\\appdata\\local\\programs\\python\\python310\\lib\\site-packages (from selenium) (0.21.0)\n",
            "Requirement already satisfied: outcome in c:\\users\\pheli\\appdata\\local\\programs\\python\\python310\\lib\\site-packages (from trio~=0.17->selenium) (1.2.0)\n",
            "Requirement already satisfied: cffi>=1.14 in c:\\users\\pheli\\appdata\\local\\programs\\python\\python310\\lib\\site-packages (from trio~=0.17->selenium) (1.15.1)\n",
            "Requirement already satisfied: idna in c:\\users\\pheli\\appdata\\local\\programs\\python\\python310\\lib\\site-packages (from trio~=0.17->selenium) (3.3)\n",
            "Requirement already satisfied: async-generator>=1.9 in c:\\users\\pheli\\appdata\\local\\programs\\python\\python310\\lib\\site-packages (from trio~=0.17->selenium) (1.10)\n",
            "Requirement already satisfied: sortedcontainers in c:\\users\\pheli\\appdata\\local\\programs\\python\\python310\\lib\\site-packages (from trio~=0.17->selenium) (2.4.0)\n",
            "Requirement already satisfied: sniffio in c:\\users\\pheli\\appdata\\local\\programs\\python\\python310\\lib\\site-packages (from trio~=0.17->selenium) (1.2.0)\n",
            "Requirement already satisfied: attrs>=19.2.0 in c:\\users\\pheli\\appdata\\local\\programs\\python\\python310\\lib\\site-packages (from trio~=0.17->selenium) (22.1.0)\n",
            "Requirement already satisfied: wsproto>=0.14 in c:\\users\\pheli\\appdata\\local\\programs\\python\\python310\\lib\\site-packages (from trio-websocket~=0.9->selenium) (1.1.0)\n",
            "Requirement already satisfied: PySocks!=1.5.7,<2.0,>=1.5.6 in c:\\users\\pheli\\appdata\\local\\programs\\python\\python310\\lib\\site-packages (from urllib3[secure,socks]~=1.26->selenium) (1.7.1)\n",
            "Requirement already satisfied: pyOpenSSL>=0.14 in c:\\users\\pheli\\appdata\\local\\programs\\python\\python310\\lib\\site-packages (from urllib3[secure,socks]~=1.26->selenium) (22.0.0)\n",
            "Requirement already satisfied: certifi in c:\\users\\pheli\\appdata\\local\\programs\\python\\python310\\lib\\site-packages (from urllib3[secure,socks]~=1.26->selenium) (2022.6.15)\n",
            "Requirement already satisfied: cryptography>=1.3.4 in c:\\users\\pheli\\appdata\\local\\programs\\python\\python310\\lib\\site-packages (from urllib3[secure,socks]~=1.26->selenium) (37.0.4)\n",
            "Requirement already satisfied: pycparser in c:\\users\\pheli\\appdata\\local\\programs\\python\\python310\\lib\\site-packages (from cffi>=1.14->trio~=0.17->selenium) (2.21)\n",
            "Requirement already satisfied: h11<1,>=0.9.0 in c:\\users\\pheli\\appdata\\local\\programs\\python\\python310\\lib\\site-packages (from wsproto>=0.14->trio-websocket~=0.9->selenium) (0.13.0)\n",
            "Requirement already satisfied: webdriver_manager in c:\\users\\pheli\\appdata\\local\\programs\\python\\python310\\lib\\site-packages (3.8.3)\n",
            "Requirement already satisfied: python-dotenv in c:\\users\\pheli\\appdata\\local\\programs\\python\\python310\\lib\\site-packages (from webdriver_manager) (0.20.0)\n",
            "Requirement already satisfied: requests in c:\\users\\pheli\\appdata\\local\\programs\\python\\python310\\lib\\site-packages (from webdriver_manager) (2.28.1)\n",
            "Requirement already satisfied: tqdm in c:\\users\\pheli\\appdata\\local\\programs\\python\\python310\\lib\\site-packages (from webdriver_manager) (4.64.0)\n",
            "Requirement already satisfied: certifi>=2017.4.17 in c:\\users\\pheli\\appdata\\local\\programs\\python\\python310\\lib\\site-packages (from requests->webdriver_manager) (2022.6.15)\n",
            "Requirement already satisfied: urllib3<1.27,>=1.21.1 in c:\\users\\pheli\\appdata\\local\\programs\\python\\python310\\lib\\site-packages (from requests->webdriver_manager) (1.26.11)\n",
            "Requirement already satisfied: charset-normalizer<3,>=2 in c:\\users\\pheli\\appdata\\local\\programs\\python\\python310\\lib\\site-packages (from requests->webdriver_manager) (2.1.0)\n",
            "Requirement already satisfied: idna<4,>=2.5 in c:\\users\\pheli\\appdata\\local\\programs\\python\\python310\\lib\\site-packages (from requests->webdriver_manager) (3.3)\n",
            "Requirement already satisfied: colorama in c:\\users\\pheli\\appdata\\local\\programs\\python\\python310\\lib\\site-packages (from tqdm->webdriver_manager) (0.4.4)\n",
            "Requirement already satisfied: plotly in c:\\users\\pheli\\appdata\\local\\programs\\python\\python310\\lib\\site-packages (5.9.0)\n",
            "Requirement already satisfied: tenacity>=6.2.0 in c:\\users\\pheli\\appdata\\local\\programs\\python\\python310\\lib\\site-packages (from plotly) (8.0.1)\n"
          ]
        }
      ],
      "source": [
        "!pip install --upgrade pip\n",
        "!pip install geopandas\n",
        "!pip install selenium\n",
        "!pip install webdriver_manager\n",
        "!pip install plotly"
      ]
    },
    {
      "cell_type": "markdown",
      "metadata": {},
      "source": [
        "Antes de desenvolver o grafico vou rodar um script Selenium para baixar a versão atual dos dados do site do ministerio da saude"
      ]
    },
    {
      "cell_type": "code",
      "execution_count": 2,
      "metadata": {},
      "outputs": [
        {
          "name": "stderr",
          "output_type": "stream",
          "text": [
            "C:\\Users\\pheli\\AppData\\Local\\Temp/ipykernel_31904/674006772.py:8: DeprecationWarning: executable_path has been deprecated, please pass in a Service object\n",
            "  driver = webdriver.Chrome(ChromeDriverManager().install(),options=options)\n"
          ]
        }
      ],
      "source": [
        "from selenium import webdriver\n",
        "from selenium.webdriver.common.by import By\n",
        "from webdriver_manager.chrome import ChromeDriverManager\n",
        "options = webdriver.ChromeOptions()\n",
        "options.add_argument('--headless')\n",
        "options.add_argument('--no-sandbox')\n",
        "options.add_argument('--disable-dev-shm-usage')\n",
        "driver = webdriver.Chrome(ChromeDriverManager().install(),options=options)"
      ]
    },
    {
      "cell_type": "code",
      "execution_count": 3,
      "metadata": {},
      "outputs": [],
      "source": [
        "driver.get('https://covid.saude.gov.br/')\n",
        "driver.find_element(By.XPATH,'/html/body/app-root/ion-app/ion-router-outlet/app-home/ion-content/div[1]/div[2]/ion-button').click()"
      ]
    },
    {
      "cell_type": "markdown",
      "metadata": {},
      "source": [
        "Agora vamos preparar os dados para o grafico"
      ]
    },
    {
      "cell_type": "code",
      "execution_count": 2,
      "metadata": {
        "id": "ZW_NfYrffcK_"
      },
      "outputs": [],
      "source": [
        "import pandas as pd\n",
        "import os\n",
        "import geopandas as gpd\n",
        "import numpy as np\n",
        "import plotly.express as px\n",
        "from datetime import datetime\n",
        "from urllib.request import urlopen\n",
        "import json\n",
        "PATH = 'csv/'"
      ]
    },
    {
      "cell_type": "code",
      "execution_count": 3,
      "metadata": {
        "id": "EfaMQmkCfdMz"
      },
      "outputs": [
        {
          "name": "stdout",
          "output_type": "stream",
          "text": [
            "(4805113, 17)\n",
            "(4762350, 17)\n"
          ]
        },
        {
          "data": {
            "text/html": [
              "<div>\n",
              "<style scoped>\n",
              "    .dataframe tbody tr th:only-of-type {\n",
              "        vertical-align: middle;\n",
              "    }\n",
              "\n",
              "    .dataframe tbody tr th {\n",
              "        vertical-align: top;\n",
              "    }\n",
              "\n",
              "    .dataframe thead th {\n",
              "        text-align: right;\n",
              "    }\n",
              "</style>\n",
              "<table border=\"1\" class=\"dataframe\">\n",
              "  <thead>\n",
              "    <tr style=\"text-align: right;\">\n",
              "      <th></th>\n",
              "      <th>regiao</th>\n",
              "      <th>estado</th>\n",
              "      <th>municipio</th>\n",
              "      <th>coduf</th>\n",
              "      <th>codmun</th>\n",
              "      <th>codRegiaoSaude</th>\n",
              "      <th>nomeRegiaoSaude</th>\n",
              "      <th>data</th>\n",
              "      <th>semanaEpi</th>\n",
              "      <th>populacaoTCU2019</th>\n",
              "      <th>casosAcumulado</th>\n",
              "      <th>casosNovos</th>\n",
              "      <th>obitosAcumulado</th>\n",
              "      <th>obitosNovos</th>\n",
              "      <th>Recuperadosnovos</th>\n",
              "      <th>emAcompanhamentoNovos</th>\n",
              "      <th>interior/metropolitana</th>\n",
              "      <th>datetime</th>\n",
              "    </tr>\n",
              "  </thead>\n",
              "  <tbody>\n",
              "    <tr>\n",
              "      <th>4551</th>\n",
              "      <td>Norte</td>\n",
              "      <td>RO</td>\n",
              "      <td>Alta Floresta D'Oeste</td>\n",
              "      <td>11</td>\n",
              "      <td>110001.0</td>\n",
              "      <td>11005.0</td>\n",
              "      <td>ZONA DA MATA</td>\n",
              "      <td>2020-03-27</td>\n",
              "      <td>13</td>\n",
              "      <td>22945.0</td>\n",
              "      <td>0.0</td>\n",
              "      <td>0</td>\n",
              "      <td>0</td>\n",
              "      <td>0</td>\n",
              "      <td>NaN</td>\n",
              "      <td>NaN</td>\n",
              "      <td>0.0</td>\n",
              "      <td>2020-03-27</td>\n",
              "    </tr>\n",
              "    <tr>\n",
              "      <th>4552</th>\n",
              "      <td>Norte</td>\n",
              "      <td>RO</td>\n",
              "      <td>Alta Floresta D'Oeste</td>\n",
              "      <td>11</td>\n",
              "      <td>110001.0</td>\n",
              "      <td>11005.0</td>\n",
              "      <td>ZONA DA MATA</td>\n",
              "      <td>2020-03-28</td>\n",
              "      <td>13</td>\n",
              "      <td>22945.0</td>\n",
              "      <td>0.0</td>\n",
              "      <td>0</td>\n",
              "      <td>0</td>\n",
              "      <td>0</td>\n",
              "      <td>NaN</td>\n",
              "      <td>NaN</td>\n",
              "      <td>0.0</td>\n",
              "      <td>2020-03-28</td>\n",
              "    </tr>\n",
              "  </tbody>\n",
              "</table>\n",
              "</div>"
            ],
            "text/plain": [
              "     regiao estado              municipio  coduf    codmun  codRegiaoSaude  \\\n",
              "4551  Norte     RO  Alta Floresta D'Oeste     11  110001.0         11005.0   \n",
              "4552  Norte     RO  Alta Floresta D'Oeste     11  110001.0         11005.0   \n",
              "\n",
              "     nomeRegiaoSaude        data  semanaEpi  populacaoTCU2019  casosAcumulado  \\\n",
              "4551    ZONA DA MATA  2020-03-27         13           22945.0             0.0   \n",
              "4552    ZONA DA MATA  2020-03-28         13           22945.0             0.0   \n",
              "\n",
              "      casosNovos  obitosAcumulado  obitosNovos  Recuperadosnovos  \\\n",
              "4551           0                0            0               NaN   \n",
              "4552           0                0            0               NaN   \n",
              "\n",
              "      emAcompanhamentoNovos  interior/metropolitana   datetime  \n",
              "4551                    NaN                     0.0 2020-03-27  \n",
              "4552                    NaN                     0.0 2020-03-28  "
            ]
          },
          "execution_count": 3,
          "metadata": {},
          "output_type": "execute_result"
        }
      ],
      "source": [
        "files = [f for f in os.listdir(PATH) if os.path.isfile(os.path.join(PATH, f))]\n",
        "df = pd.DataFrame()\n",
        "for f in files:\n",
        "  df = pd.concat([df,pd.read_csv(PATH + f, encoding = \"ISO-8859-1\", sep = ';')])\n",
        "print(df.shape)\n",
        "df.dropna(subset=['municipio'],inplace=True)\n",
        "print(df.shape)\n",
        "df['datetime'] = pd.to_datetime(df['data'], format=\"%Y/%m/%d\")\n",
        "df.head(2)"
      ]
    },
    {
      "cell_type": "code",
      "execution_count": 4,
      "metadata": {},
      "outputs": [],
      "source": [
        "with urlopen(\"https://raw.githubusercontent.com/codeforamerica/click_that_hood/master/public/data/brazil-states.geojson\") as response:\n",
        " Brazil = json.load(response) # Javascrip object notation \n",
        "\n",
        "for feature in Brazil ['features']:\n",
        " feature['id'] = feature['properties']['sigla']"
      ]
    },
    {
      "cell_type": "code",
      "execution_count": 5,
      "metadata": {},
      "outputs": [],
      "source": [
        "fig = px.choropleth(df.loc[df['datetime'] < datetime.strptime('2020/10/01', \"%Y/%m/%d\")], \n",
        "                    locations =\"estado\", \n",
        "                    color =\"casosAcumulado\", \n",
        "                    geojson = Brazil,\n",
        "                    hover_name =\"estado\", \n",
        "                    animation_frame =\"data\") \n",
        "\n",
        "fig.update_geos(fitbounds = \"locations\", visible = False)\n",
        "fig.show()"
      ]
    },
    {
      "cell_type": "code",
      "execution_count": null,
      "metadata": {},
      "outputs": [],
      "source": []
    }
  ],
  "metadata": {
    "colab": {
      "authorship_tag": "ABX9TyNMxLYgUvpkkRBcT6EZO0nz",
      "name": "COVID-Brazil.ipynb",
      "provenance": []
    },
    "kernelspec": {
      "display_name": "Python 3.10.1 64-bit",
      "language": "python",
      "name": "python3"
    },
    "language_info": {
      "codemirror_mode": {
        "name": "ipython",
        "version": 3
      },
      "file_extension": ".py",
      "mimetype": "text/x-python",
      "name": "python",
      "nbconvert_exporter": "python",
      "pygments_lexer": "ipython3",
      "version": "3.10.1"
    },
    "vscode": {
      "interpreter": {
        "hash": "b39dd087fcfe95e8aaa1fe490f69941aec88c99a8a49968bf1c41247879683e7"
      }
    }
  },
  "nbformat": 4,
  "nbformat_minor": 0
}
